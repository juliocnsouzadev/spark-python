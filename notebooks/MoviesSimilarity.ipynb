{
 "cells": [
  {
   "cell_type": "markdown",
   "id": "urban-namibia",
   "metadata": {},
   "source": [
    "# Movies Similarity"
   ]
  },
  {
   "cell_type": "code",
   "execution_count": 51,
   "id": "cosmetic-madrid",
   "metadata": {},
   "outputs": [],
   "source": [
    "from pyspark.sql import SparkSession \n",
    "from pyspark.sql import types as data_types\n",
    "from pyspark.sql.functions import col, size, split, sum, min, max, sqrt, count, when, desc"
   ]
  },
  {
   "cell_type": "code",
   "execution_count": 2,
   "id": "noticed-university",
   "metadata": {},
   "outputs": [],
   "source": [
    "spark = SparkSession.builder.appName(\"MoviesSimilarity\").getOrCreate()"
   ]
  },
  {
   "cell_type": "markdown",
   "id": "english-shadow",
   "metadata": {},
   "source": [
    "## Loading Data"
   ]
  },
  {
   "cell_type": "code",
   "execution_count": 4,
   "id": "secret-cache",
   "metadata": {},
   "outputs": [],
   "source": [
    "def getMovieNamesDF():\n",
    "    schema = [\n",
    "        data_types.StructField(\"movieID\", data_types.IntegerType(), True),\n",
    "        data_types.StructField(\"movieTitle\", data_types.StringType(), True)\n",
    "    ]\n",
    "    df = spark.read.option( \"sep\" , \"|\" ).option( \"charset\" , \"ISO-8859-1\" ).schema( data_types.StructType(fields=schema)).csv(\"ml_100k/u.item\")\n",
    "    return df"
   ]
  },
  {
   "cell_type": "code",
   "execution_count": 6,
   "id": "demanding-thread",
   "metadata": {},
   "outputs": [],
   "source": [
    "def getMoviesDF():\n",
    "    schema = [\n",
    "        data_types.StructField(\"userID\", data_types.IntegerType(), True),\n",
    "        data_types.StructField(\"movieID\", data_types.IntegerType(), True),\n",
    "        data_types.StructField(\"rating\", data_types.IntegerType(), True),\n",
    "        data_types.StructField(\"timestamp\", data_types.LongType(), True)\n",
    "    ]\n",
    "    df = spark.read.option( \"sep\" , \"\\t\" ).schema( data_types.StructType(fields=schema)).csv(\"ml_100k/u.data\")\n",
    "    return df"
   ]
  },
  {
   "cell_type": "code",
   "execution_count": 5,
   "id": "moving-image",
   "metadata": {},
   "outputs": [
    {
     "name": "stdout",
     "output_type": "stream",
     "text": [
      "+-------+-----------------+\n",
      "|movieID|       movieTitle|\n",
      "+-------+-----------------+\n",
      "|      1| Toy Story (1995)|\n",
      "|      2| GoldenEye (1995)|\n",
      "|      3|Four Rooms (1995)|\n",
      "|      4|Get Shorty (1995)|\n",
      "|      5|   Copycat (1995)|\n",
      "+-------+-----------------+\n",
      "only showing top 5 rows\n",
      "\n"
     ]
    }
   ],
   "source": [
    "movie_names_df = getMovieNamesDF()\n",
    "movie_names_df.show(5)"
   ]
  },
  {
   "cell_type": "code",
   "execution_count": 7,
   "id": "referenced-intent",
   "metadata": {},
   "outputs": [
    {
     "name": "stdout",
     "output_type": "stream",
     "text": [
      "+------+-------+------+---------+\n",
      "|userID|movieID|rating|timestamp|\n",
      "+------+-------+------+---------+\n",
      "|   196|    242|     3|881250949|\n",
      "|   186|    302|     3|891717742|\n",
      "|    22|    377|     1|878887116|\n",
      "|   244|     51|     2|880606923|\n",
      "|   166|    346|     1|886397596|\n",
      "+------+-------+------+---------+\n",
      "only showing top 5 rows\n",
      "\n"
     ]
    }
   ],
   "source": [
    "movies_df = getMoviesDF()\n",
    "movies_df.show(5)"
   ]
  },
  {
   "cell_type": "markdown",
   "id": "ongoing-sigma",
   "metadata": {},
   "source": [
    "## Making Tranformations"
   ]
  },
  {
   "cell_type": "code",
   "execution_count": 8,
   "id": "deadly-healing",
   "metadata": {},
   "outputs": [
    {
     "name": "stdout",
     "output_type": "stream",
     "text": [
      "+------+-------+------+\n",
      "|userID|movieID|rating|\n",
      "+------+-------+------+\n",
      "|   196|    242|     3|\n",
      "|   186|    302|     3|\n",
      "|    22|    377|     1|\n",
      "|   244|     51|     2|\n",
      "|   166|    346|     1|\n",
      "+------+-------+------+\n",
      "only showing top 5 rows\n",
      "\n"
     ]
    }
   ],
   "source": [
    "ratings_df = movies_df.select(\"userID\",\"movieID\",\"rating\")\n",
    "ratings_df.show(5)"
   ]
  },
  {
   "cell_type": "code",
   "execution_count": 22,
   "id": "cathedral-academy",
   "metadata": {},
   "outputs": [
    {
     "name": "stdout",
     "output_type": "stream",
     "text": [
      "+------+------+-------+-------+\n",
      "|movie1|movie2|rating1|rating2|\n",
      "+------+------+-------+-------+\n",
      "|   242|   269|      3|      3|\n",
      "|   242|   845|      3|      4|\n",
      "|   242|  1022|      3|      4|\n",
      "|   242|   762|      3|      3|\n",
      "|   242|   411|      3|      4|\n",
      "+------+------+-------+-------+\n",
      "only showing top 5 rows\n",
      "\n"
     ]
    }
   ],
   "source": [
    "movie_pairs_df = ratings_df.alias(\"ratings1\").join(\n",
    "    ratings_df.alias(\"ratings2\"), \n",
    "    (col(\"ratings1.userID\") == col(\"ratings2.userID\")) \n",
    "    & (col(\"ratings1.movieID\") < col(\"ratings2.movieID\"))\n",
    ").select(\n",
    "    col( \"ratings1.movieID\" ).alias( \"movie1\" ) ,\n",
    "    col( \"ratings2.movieID\" ).alias( \"movie2\" ) ,\n",
    "    col( \"ratings1.rating\" ).alias( \"rating1\" ) ,\n",
    "    col( \"ratings2.rating\" ).alias( \"rating2\" )\n",
    ")\n",
    "movie_pairs_df.show(5)"
   ]
  },
  {
   "cell_type": "code",
   "execution_count": 39,
   "id": "covered-concentration",
   "metadata": {},
   "outputs": [],
   "source": [
    "def computeCosineSimilarity(movie_pairs_df):\n",
    "    pairScoresDF = movie_pairs_df.withColumn( \"xx\" , col( \"rating1\" ) * col( \"rating1\" ) )\n",
    "    pairScoresDF = pairScoresDF.withColumn( \"yy\" , col( \"rating2\" ) * col( \"rating2\" ) )\n",
    "    pairScoresDF = pairScoresDF.withColumn( \"xy\" , col( \"rating1\" ) * ( col( \"rating2\" ) ) )\n",
    "    result = pairScoresDF.groupBy( \n",
    "        \"movie1\" , \n",
    "        \"movie2\" \n",
    "    ).agg(\n",
    "        sum( col( \"xy\" )).alias( \"numerator\" ) ,\n",
    "        (sqrt( sum( col( \"xx\" ) ) ) * sqrt( sum( col( \"yy\" ) ) )).alias( \"denominator\" ) ,\n",
    "        count( col( \"xy\" ) ).alias( \"numPairs\" )\n",
    "    )\n",
    "    result = result.withColumn( \n",
    "        \"score\" ,\n",
    "        when(\n",
    "            col( \"denominator\" ) != 0,\n",
    "            col( \"numerator\" ) / col( \"denominator\" ) \n",
    "        ).otherwise( None )\n",
    "    ).select( \"movie1\" , \"movie2\" , \"score\" , \"numPairs\" )\n",
    "    return result"
   ]
  },
  {
   "cell_type": "code",
   "execution_count": 40,
   "id": "requested-credits",
   "metadata": {},
   "outputs": [
    {
     "name": "stdout",
     "output_type": "stream",
     "text": [
      "+------+------+------------------+--------+\n",
      "|movie1|movie2|             score|numPairs|\n",
      "+------+------+------------------+--------+\n",
      "|    51|   924|0.9465030160396292|      15|\n",
      "|   451|   529|0.8700048504395461|      30|\n",
      "|    86|   318|0.9562989269248869|      95|\n",
      "|    40|   167|0.9488483124502475|      23|\n",
      "|   274|  1211|0.9799118698777318|       7|\n",
      "+------+------+------------------+--------+\n",
      "only showing top 5 rows\n",
      "\n"
     ]
    }
   ],
   "source": [
    "moviePairsSimilarityDF = computeCosineSimilarity( movie_pairs_df ).cache()\n",
    "moviePairsSimilarityDF.show(5)"
   ]
  },
  {
   "cell_type": "markdown",
   "id": "continued-jordan",
   "metadata": {},
   "source": [
    "## Evaluating Similars"
   ]
  },
  {
   "cell_type": "code",
   "execution_count": 41,
   "id": "lined-velvet",
   "metadata": {},
   "outputs": [],
   "source": [
    "scoreThreshold = 0.97\n",
    "coOccurrenceThreshold = 0.5\n",
    "movieID = 252"
   ]
  },
  {
   "cell_type": "code",
   "execution_count": 56,
   "id": "theoretical-contract",
   "metadata": {},
   "outputs": [
    {
     "name": "stdout",
     "output_type": "stream",
     "text": [
      "[Row(movie1=252, movie2=1302, score=1.0000000000000002, numPairs=2), Row(movie1=252, movie2=1611, score=1.0000000000000002, numPairs=2), Row(movie1=37, movie2=252, score=1.0000000000000002, numPairs=2), Row(movie1=252, movie2=883, score=1.0000000000000002, numPairs=2), Row(movie1=252, movie2=1490, score=1.0000000000000002, numPairs=2), Row(movie1=252, movie2=1657, score=1.0, numPairs=1), Row(movie1=252, movie2=1434, score=1.0, numPairs=1), Row(movie1=252, movie2=1663, score=1.0, numPairs=1), Row(movie1=252, movie2=1328, score=1.0, numPairs=1), Row(movie1=252, movie2=1628, score=1.0, numPairs=1)]\n"
     ]
    }
   ],
   "source": [
    "filteredResults = moviePairsSimilarityDF.filter(\n",
    "    ((col(\"movie1\") == movieID) | (col(\"movie2\") == movieID))\n",
    "    & ((col(\"score\") > scoreThreshold) & (col(\"numPairs\") > coOccurrenceThreshold))\n",
    ")\n",
    "filteredResults = filteredResults.sort( desc( \"score\" ) ).take(10)\n"
   ]
  },
  {
   "cell_type": "code",
   "execution_count": 59,
   "id": "isolated-idaho",
   "metadata": {},
   "outputs": [
    {
     "name": "stdout",
     "output_type": "stream",
     "text": [
      "Row(movieTitle='Late Bloomers (1996)')\n",
      "Row(movieTitle='Intimate Relations (1996)')\n",
      "Row(movieTitle='Nadja (1994)')\n",
      "Row(movieTitle='Telling Lies in America (1997)')\n",
      "Row(movieTitle='Fausto (1993)')\n",
      "Row(movieTitle='Target (1995)')\n",
      "Row(movieTitle='Shooting Fish (1997)')\n",
      "Row(movieTitle='Nothing Personal (1995)')\n",
      "Row(movieTitle='Of Love and Shadows (1994)')\n",
      "Row(movieTitle='Lamerica (1994)')\n"
     ]
    }
   ],
   "source": [
    "for result in filteredResults:\n",
    "    movieId = result[\"movie1\"]\n",
    "    if movieId == movieID:\n",
    "        movieId = result[\"movie2\"]\n",
    "    name = movie_names_df.filter(col(\"movieId\") == movieId).select(\"movieTitle\").take(1)[0]\n",
    "    print(name)"
   ]
  },
  {
   "cell_type": "code",
   "execution_count": null,
   "id": "lesser-allergy",
   "metadata": {},
   "outputs": [],
   "source": []
  }
 ],
 "metadata": {
  "kernelspec": {
   "display_name": "Python 3",
   "language": "python",
   "name": "python3"
  },
  "language_info": {
   "codemirror_mode": {
    "name": "ipython",
    "version": 3
   },
   "file_extension": ".py",
   "mimetype": "text/x-python",
   "name": "python",
   "nbconvert_exporter": "python",
   "pygments_lexer": "ipython3",
   "version": "3.8.8"
  }
 },
 "nbformat": 4,
 "nbformat_minor": 5
}
