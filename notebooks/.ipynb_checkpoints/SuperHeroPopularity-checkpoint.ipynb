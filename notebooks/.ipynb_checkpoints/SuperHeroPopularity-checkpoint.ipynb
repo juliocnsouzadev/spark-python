{
 "cells": [
  {
   "cell_type": "markdown",
   "id": "urban-namibia",
   "metadata": {},
   "source": [
    "# Super Heroes Popularity"
   ]
  },
  {
   "cell_type": "code",
   "execution_count": 1,
   "id": "cosmetic-madrid",
   "metadata": {},
   "outputs": [],
   "source": [
    "from pyspark.sql import SparkSession \n",
    "from pyspark.sql import types as data_types\n",
    "from pyspark.sql.functions import col, size, split, sum, min, max"
   ]
  },
  {
   "cell_type": "code",
   "execution_count": 2,
   "id": "noticed-university",
   "metadata": {},
   "outputs": [],
   "source": [
    "spark = SparkSession.builder.appName(\"SuperHeroPopularity\").getOrCreate()"
   ]
  },
  {
   "cell_type": "markdown",
   "id": "english-shadow",
   "metadata": {},
   "source": [
    "## Loading Data"
   ]
  },
  {
   "cell_type": "code",
   "execution_count": 3,
   "id": "light-baseball",
   "metadata": {},
   "outputs": [],
   "source": [
    "name_schema = [\n",
    "    data_types.StructField(\"id\", data_types.StringType(), True),\n",
    "    data_types.StructField(\"name\", data_types.StringType(), True)\n",
    "]\n",
    "df_names = spark.read.schema( data_types.StructType(fields=name_schema)).option(\"sep\",\" \").csv(\"marvel-names.txt\")"
   ]
  },
  {
   "cell_type": "code",
   "execution_count": 4,
   "id": "confused-modem",
   "metadata": {},
   "outputs": [
    {
     "name": "stdout",
     "output_type": "stream",
     "text": [
      "+---+--------------------+\n",
      "| id|                name|\n",
      "+---+--------------------+\n",
      "|  1|24-HOUR MAN/EMMANUEL|\n",
      "|  2|3-D MAN/CHARLES CHAN|\n",
      "|  3|    4-D MAN/MERCURIO|\n",
      "|  4|             8-BALL/|\n",
      "|  5|                   A|\n",
      "+---+--------------------+\n",
      "only showing top 5 rows\n",
      "\n"
     ]
    }
   ],
   "source": [
    "df_names.show(5)"
   ]
  },
  {
   "cell_type": "code",
   "execution_count": 5,
   "id": "municipal-essex",
   "metadata": {},
   "outputs": [],
   "source": [
    "graph_schema = [\n",
    "    data_types.StructField(\"value\", data_types.StringType(), True)\n",
    "]\n",
    "df_marvel_lines = spark.read.schema(data_types.StructType(fields=graph_schema)).text(\"marvel-graph.txt\")"
   ]
  },
  {
   "cell_type": "code",
   "execution_count": 6,
   "id": "integral-brain",
   "metadata": {},
   "outputs": [
    {
     "name": "stdout",
     "output_type": "stream",
     "text": [
      "+--------------------+\n",
      "|               value|\n",
      "+--------------------+\n",
      "|5988 748 1722 375...|\n",
      "|5989 4080 4264 44...|\n",
      "|5982 217 595 1194...|\n",
      "|5983 1165 3836 43...|\n",
      "|5980 2731 3712 15...|\n",
      "+--------------------+\n",
      "only showing top 5 rows\n",
      "\n"
     ]
    }
   ],
   "source": [
    "df_marvel_lines.show(5)"
   ]
  },
  {
   "cell_type": "markdown",
   "id": "sharp-ethiopia",
   "metadata": {},
   "source": [
    "## Making Tranformations to get a Usefull Dataframe with Heroes Connections Sum"
   ]
  },
  {
   "cell_type": "code",
   "execution_count": 7,
   "id": "dress-august",
   "metadata": {},
   "outputs": [],
   "source": [
    "graph_value_column = col(\"value\")\n",
    "graph_value_spliced_column = split(graph_value_column, \" \")\n",
    "graph_value_spliced_column_size = size(graph_value_spliced_column)"
   ]
  },
  {
   "cell_type": "code",
   "execution_count": 13,
   "id": "graduate-vocabulary",
   "metadata": {},
   "outputs": [],
   "source": [
    "connections_df = df_marvel_lines.withColumn(\"id\", graph_value_spliced_column[0]).withColumn(\"connections\", graph_value_spliced_column_size -1).groupBy(\"id\").agg(sum(\"connections\").alias(\"connections\"))"
   ]
  },
  {
   "cell_type": "code",
   "execution_count": 14,
   "id": "native-transcript",
   "metadata": {},
   "outputs": [
    {
     "name": "stdout",
     "output_type": "stream",
     "text": [
      "+----+-----------+\n",
      "|  id|connections|\n",
      "+----+-----------+\n",
      "| 691|          7|\n",
      "|1159|         12|\n",
      "|3959|        143|\n",
      "|1572|         36|\n",
      "|2294|         15|\n",
      "+----+-----------+\n",
      "only showing top 5 rows\n",
      "\n"
     ]
    }
   ],
   "source": [
    "connections_df.show(5)"
   ]
  },
  {
   "cell_type": "markdown",
   "id": "numeric-sleeve",
   "metadata": {},
   "source": [
    "## Checking the Most Popular and Unpopular Heroes"
   ]
  },
  {
   "cell_type": "markdown",
   "id": "julian-mouth",
   "metadata": {},
   "source": [
    "### Most Unpopular"
   ]
  },
  {
   "cell_type": "code",
   "execution_count": 17,
   "id": "portuguese-explosion",
   "metadata": {},
   "outputs": [
    {
     "name": "stdout",
     "output_type": "stream",
     "text": [
      "+----+-----------+--------------------+\n",
      "|  id|connections|                name|\n",
      "+----+-----------+--------------------+\n",
      "| 467|          1|        BERSERKER II|\n",
      "| 577|          1|              BLARE/|\n",
      "|3490|          1|MARVEL BOY II/MARTIN|\n",
      "|3489|          1|MARVEL BOY/MARTIN BU|\n",
      "|2139|          1|      GIURESCU, RADU|\n",
      "+----+-----------+--------------------+\n",
      "only showing top 5 rows\n",
      "\n"
     ]
    }
   ],
   "source": [
    "least_popular_value = connections_df.agg(min(\"connections\").alias(\"min\")).first()\n",
    "least_popular_value = least_popular_value.asDict(0)['min']\n",
    "most_unpopular = connections_df.filter(connections_df[\"connections\"] == least_popular_value)\n",
    "most_unpopular = most_unpopular.join(df_names, [\"id\"])\n",
    "most_unpopular.show()"
   ]
  },
  {
   "cell_type": "code",
   "execution_count": 19,
   "id": "dated-conducting",
   "metadata": {},
   "outputs": [
    {
     "name": "stdout",
     "output_type": "stream",
     "text": [
      "+---+-----------+---------------+\n",
      "| id|connections|           name|\n",
      "+---+-----------+---------------+\n",
      "|859|       1937|CAPTAIN AMERICA|\n",
      "+---+-----------+---------------+\n",
      "\n"
     ]
    }
   ],
   "source": [
    "most_popular_value = connections_df.agg(max(\"connections\").alias(\"max\")).first()\n",
    "most_popular_value = most_popular_value.asDict(0)['max']\n",
    "most_popular = connections_df.filter(connections_df[\"connections\"] == most_popular_value)\n",
    "most_popular = most_popular.join(df_names, [\"id\"])\n",
    "most_popular.show()"
   ]
  },
  {
   "cell_type": "code",
   "execution_count": null,
   "id": "lesser-allergy",
   "metadata": {},
   "outputs": [],
   "source": []
  }
 ],
 "metadata": {
  "kernelspec": {
   "display_name": "Python 3",
   "language": "python",
   "name": "python3"
  },
  "language_info": {
   "codemirror_mode": {
    "name": "ipython",
    "version": 3
   },
   "file_extension": ".py",
   "mimetype": "text/x-python",
   "name": "python",
   "nbconvert_exporter": "python",
   "pygments_lexer": "ipython3",
   "version": "3.8.8"
  }
 },
 "nbformat": 4,
 "nbformat_minor": 5
}
