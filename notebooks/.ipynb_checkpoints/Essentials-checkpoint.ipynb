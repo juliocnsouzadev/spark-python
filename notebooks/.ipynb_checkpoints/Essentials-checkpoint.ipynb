{
 "cells": [
  {
   "cell_type": "markdown",
   "id": "judicial-receptor",
   "metadata": {},
   "source": [
    "# Spark PySpark"
   ]
  },
  {
   "cell_type": "markdown",
   "id": "infrared-christianity",
   "metadata": {},
   "source": [
    "## Imports"
   ]
  },
  {
   "cell_type": "code",
   "execution_count": 1,
   "id": "particular-helena",
   "metadata": {},
   "outputs": [],
   "source": [
    "import pyspark \n"
   ]
  },
  {
   "cell_type": "code",
   "execution_count": 2,
   "id": "disciplinary-explorer",
   "metadata": {},
   "outputs": [
    {
     "data": {
      "text/plain": [
       "[112, 189, 460, 859, 545]"
      ]
     },
     "execution_count": 2,
     "metadata": {},
     "output_type": "execute_result"
    }
   ],
   "source": [
    "sc = pyspark.SparkContext('local[*]')\n",
    "# do something to prove it works\n",
    "rdd = sc.parallelize(range(1000))\n",
    "rdd.takeSample(False, 5)"
   ]
  },
  {
   "cell_type": "code",
   "execution_count": null,
   "id": "vulnerable-hungarian",
   "metadata": {},
   "outputs": [],
   "source": []
  }
 ],
 "metadata": {
  "kernelspec": {
   "display_name": "Python 3",
   "language": "python",
   "name": "python3"
  },
  "language_info": {
   "codemirror_mode": {
    "name": "ipython",
    "version": 3
   },
   "file_extension": ".py",
   "mimetype": "text/x-python",
   "name": "python",
   "nbconvert_exporter": "python",
   "pygments_lexer": "ipython3",
   "version": "3.8.8"
  }
 },
 "nbformat": 4,
 "nbformat_minor": 5
}
